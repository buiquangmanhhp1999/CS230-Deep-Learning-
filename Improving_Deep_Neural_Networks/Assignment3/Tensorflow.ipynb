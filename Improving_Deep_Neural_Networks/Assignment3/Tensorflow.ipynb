{
  "nbformat": 4,
  "nbformat_minor": 0,
  "metadata": {
    "colab": {
      "name": "Tensorflow.ipynb",
      "provenance": [],
      "collapsed_sections": []
    },
    "kernelspec": {
      "name": "python3",
      "display_name": "Python 3"
    }
  },
  "cells": [
    {
      "cell_type": "code",
      "metadata": {
        "id": "SnsWfzwvEy1y",
        "colab_type": "code",
        "colab": {
          "base_uri": "https://localhost:8080/",
          "height": 62
        },
        "outputId": "e50bc516-a37a-4aa3-99f9-d001a40dd567"
      },
      "source": [
        "import math\n",
        "import numpy as np\n",
        "import h5py\n",
        "import matplotlib.pyplot as plt\n",
        "import tensorflow as tf\n",
        "from tensorflow.python.framework import ops\n",
        "from tf_utils import load_dataset, random_mini_batches, convert_to_one_hot, predict\n",
        "\n",
        "np.random.seed(1)"
      ],
      "execution_count": 3,
      "outputs": [
        {
          "output_type": "display_data",
          "data": {
            "text/html": [
              "<p style=\"color: red;\">\n",
              "The default version of TensorFlow in Colab will soon switch to TensorFlow 2.x.<br>\n",
              "We recommend you <a href=\"https://www.tensorflow.org/guide/migrate\" target=\"_blank\">upgrade</a> now \n",
              "or ensure your notebook will continue to use TensorFlow 1.x via the <code>%tensorflow_version 1.x</code> magic:\n",
              "<a href=\"https://colab.research.google.com/notebooks/tensorflow_version.ipynb\" target=\"_blank\">more info</a>.</p>\n"
            ],
            "text/plain": [
              "<IPython.core.display.HTML object>"
            ]
          },
          "metadata": {
            "tags": []
          }
        }
      ]
    },
    {
      "cell_type": "code",
      "metadata": {
        "id": "2DOhfxGzqzx6",
        "colab_type": "code",
        "outputId": "45ab06ca-0950-4b71-a1e4-91f4056cf9be",
        "colab": {
          "base_uri": "https://localhost:8080/",
          "height": 34
        }
      },
      "source": [
        "y_hat = tf.constant(36, name='y_hat')\n",
        "y = tf.constant(39, name='y')\n",
        "\n",
        "loss = tf.Variable((y - y_hat)**2, name='loss')\n",
        "init = tf.global_variables_initializer()\n",
        "\n",
        "with tf.Session() as sess:\n",
        "  sess.run(init)\n",
        "  print(sess.run(loss))"
      ],
      "execution_count": 4,
      "outputs": [
        {
          "output_type": "stream",
          "text": [
            "9\n"
          ],
          "name": "stdout"
        }
      ]
    },
    {
      "cell_type": "code",
      "metadata": {
        "id": "jpLBtU9lrU_g",
        "colab_type": "code",
        "outputId": "fd432f79-8075-4eec-c6ad-47becb7c14f9",
        "colab": {
          "base_uri": "https://localhost:8080/",
          "height": 34
        }
      },
      "source": [
        "a = tf.constant(2)\n",
        "b = tf.constant(10)\n",
        "c = tf.multiply(a, b)\n",
        "print(c)"
      ],
      "execution_count": 5,
      "outputs": [
        {
          "output_type": "stream",
          "text": [
            "Tensor(\"Mul:0\", shape=(), dtype=int32)\n"
          ],
          "name": "stdout"
        }
      ]
    },
    {
      "cell_type": "code",
      "metadata": {
        "id": "ZdjTOXjItb8H",
        "colab_type": "code",
        "outputId": "dc83a42a-154a-442b-9905-4fbc2db24cd9",
        "colab": {
          "base_uri": "https://localhost:8080/",
          "height": 34
        }
      },
      "source": [
        "sess = tf.Session()\n",
        "print(sess.run(c))"
      ],
      "execution_count": 6,
      "outputs": [
        {
          "output_type": "stream",
          "text": [
            "20\n"
          ],
          "name": "stdout"
        }
      ]
    },
    {
      "cell_type": "code",
      "metadata": {
        "id": "dl1Wd2iFth7R",
        "colab_type": "code",
        "outputId": "fc30761f-cb79-405a-ebfc-2433c6796ff1",
        "colab": {
          "base_uri": "https://localhost:8080/",
          "height": 34
        }
      },
      "source": [
        "x = tf.placeholder(tf.int64, name='x')\n",
        "print(sess.run(2 * x, feed_dict = {x: 3}))"
      ],
      "execution_count": 7,
      "outputs": [
        {
          "output_type": "stream",
          "text": [
            "6\n"
          ],
          "name": "stdout"
        }
      ]
    },
    {
      "cell_type": "code",
      "metadata": {
        "id": "UoXZF0H72xXQ",
        "colab_type": "code",
        "colab": {}
      },
      "source": [
        "def linear_function():\n",
        "  \"\"\"\n",
        "  Implement a linear function:\n",
        "          Initializes X to be a random tensor of shape (3, 1)\n",
        "          Initializes W to be a random  tensor of shape (4, 3)\n",
        "          Initializes b to be a random tensor of shape (4, 1)\n",
        "  Returns:\n",
        "  result -- runs the session for Y = WX + b\n",
        "  \"\"\"\n",
        "\n",
        "  np.random.seed(1)\n",
        "  X = tf.constant(np.random.randn(3, 1), name='x')\n",
        "  W = tf.constant(np.random.randn(4, 3), name='W')\n",
        "  b = tf.constant(np.random.randn(4, 1), name='b')\n",
        "  \n",
        "  Y = tf.add(tf.matmul(W, X), b)\n",
        "\n",
        "  with tf.Session() as sess:\n",
        "    result = sess.run(Y)\n",
        "\n",
        "  sess.close()\n",
        "  return result"
      ],
      "execution_count": 0,
      "outputs": []
    },
    {
      "cell_type": "code",
      "metadata": {
        "id": "sX2FaET843VQ",
        "colab_type": "code",
        "outputId": "65b623a3-f306-454b-90cc-5f03d6693257",
        "colab": {
          "base_uri": "https://localhost:8080/",
          "height": 101
        }
      },
      "source": [
        "print('result = \\n' + str(linear_function()))"
      ],
      "execution_count": 9,
      "outputs": [
        {
          "output_type": "stream",
          "text": [
            "result = \n",
            "[[-2.15657382]\n",
            " [ 2.95891446]\n",
            " [-1.08926781]\n",
            " [-0.84538042]]\n"
          ],
          "name": "stdout"
        }
      ]
    },
    {
      "cell_type": "code",
      "metadata": {
        "id": "wwyRewQj20Ss",
        "colab_type": "code",
        "outputId": "108b01ca-8a89-41ae-8eb0-042533176302",
        "colab": {
          "base_uri": "https://localhost:8080/",
          "height": 50
        }
      },
      "source": [
        "# SIGMOID\n",
        "def sigmoid(z):\n",
        "  \"\"\"\n",
        "  Computes the sigmoid of z\n",
        "\n",
        "  Arguments:\n",
        "  z -- input value, scalar or vector\n",
        "\n",
        "  Returns:\n",
        "  results -- the sigmoid of z\n",
        "  \"\"\"\n",
        "\n",
        "  # Create a placeholder for x. Name it ' x'.\n",
        "  x = tf.placeholder(tf.float64, name='x')\n",
        "\n",
        "  # compute sigmoid\n",
        "  sigmoid = tf.sigmoid(x)\n",
        "\n",
        "  # create a session and run it\n",
        "  with tf.Session() as sess:\n",
        "    result = sess.run(sigmoid, feed_dict={x: z})\n",
        "\n",
        "  return result\n",
        "\n",
        "print('Sigmoid(0) = ' + str(sigmoid(0)))\n",
        "print('Sigmoid(12) = ' + str(sigmoid(12)))"
      ],
      "execution_count": 10,
      "outputs": [
        {
          "output_type": "stream",
          "text": [
            "Sigmoid(0) = 0.5\n",
            "Sigmoid(12) = 0.9999938558253978\n"
          ],
          "name": "stdout"
        }
      ]
    },
    {
      "cell_type": "code",
      "metadata": {
        "id": "w1up2tZw7Ty8",
        "colab_type": "code",
        "outputId": "ed8d5ff9-8d3c-42df-acbf-e5a5b498289f",
        "colab": {
          "base_uri": "https://localhost:8080/",
          "height": 104
        }
      },
      "source": [
        "def costs(logits, labels):\n",
        "  \"\"\"\n",
        "  Computes the cost using the sigmoid cross entropy\n",
        "\n",
        "  Arguments:\n",
        "  logits -- vector containing z, output of the last linar unit(before the sigmoid activation function)\n",
        "  labels -- vector of labels y (1 or 0)\n",
        "\n",
        "  Returns:\n",
        "  cost -- runs the session of the cost \n",
        "  \"\"\"\n",
        "\n",
        "  # create the placeholders for \"logits\" (z) and labels (y)\n",
        "  z = tf.placeholder(tf.float64, name='z')\n",
        "  y = tf.placeholder(tf.float64, name='y')\n",
        "\n",
        "  # use the loss function\n",
        "  cost = tf.nn.sigmoid_cross_entropy_with_logits(logits=z, labels=y)\n",
        "  with tf.Session() as sess:\n",
        "    cost = sess.run(cost, feed_dict={z: logits, y: labels})\n",
        "\n",
        "  return cost\n",
        "\n",
        "logits = np.array([0.2, 0.4, 0.7, 0.9])\n",
        "cost = costs(logits, np.array([0, 0, 1, 1]))\n",
        "print('cost = ' + str(cost))\n"
      ],
      "execution_count": 11,
      "outputs": [
        {
          "output_type": "stream",
          "text": [
            "WARNING:tensorflow:From /usr/local/lib/python3.6/dist-packages/tensorflow_core/python/ops/nn_impl.py:183: where (from tensorflow.python.ops.array_ops) is deprecated and will be removed in a future version.\n",
            "Instructions for updating:\n",
            "Use tf.where in 2.0, which has the same broadcast rule as np.where\n",
            "cost = [0.79813887 0.91301525 0.40318605 0.34115387]\n"
          ],
          "name": "stdout"
        }
      ]
    },
    {
      "cell_type": "code",
      "metadata": {
        "id": "lAzKvx6P2Hhn",
        "colab_type": "code",
        "outputId": "6a6ab6ed-f662-4767-8a5e-d04f92bc1529",
        "colab": {
          "base_uri": "https://localhost:8080/",
          "height": 101
        }
      },
      "source": [
        "def one_hot_matrix(labels, C):\n",
        "  \"\"\"\n",
        "  Creates a matrix where the i-th row corresponds to the ith class number and\n",
        "  the jth column corresponds to the jth training example. So if example j had a label i\n",
        "\n",
        "  Arguments:\n",
        "  labels -- vector containing the labels\n",
        "  C -- number of classes, the depth of the one hot dimension\n",
        "\n",
        "  Returns:\n",
        "  one hot -- one hot matrix\n",
        "  \"\"\"\n",
        "\n",
        "  # Create a tf.constant equal to C(depth), name it 'C'\n",
        "  C = tf.constant(C, name='C')\n",
        "  # Use tf.one_hot, be careful with the axis\n",
        "  one_hot_matrix = tf.one_hot(labels, C, axis=0)\n",
        "\n",
        "  # Create the session\n",
        "  with tf.Session() as sess:\n",
        "    one_hot = sess.run(one_hot_matrix)\n",
        "\n",
        "  return one_hot\n",
        "\n",
        "labels = np.array([1, 2, 3, 0, 2, 1])\n",
        "one_hot = one_hot_matrix(labels, C=4)\n",
        "print('one hot = \\n' + str(one_hot))\n"
      ],
      "execution_count": 12,
      "outputs": [
        {
          "output_type": "stream",
          "text": [
            "one hot = \n",
            "[[0. 0. 0. 1. 0. 0.]\n",
            " [1. 0. 0. 0. 0. 1.]\n",
            " [0. 1. 0. 0. 1. 0.]\n",
            " [0. 0. 1. 0. 0. 0.]]\n"
          ],
          "name": "stdout"
        }
      ]
    },
    {
      "cell_type": "code",
      "metadata": {
        "id": "SaXGV5CS8WxU",
        "colab_type": "code",
        "outputId": "4df8bf5d-ddc4-4366-d0c4-1ada8c19fa34",
        "colab": {
          "base_uri": "https://localhost:8080/",
          "height": 67
        }
      },
      "source": [
        "def ones(shape):\n",
        "  \"\"\"\n",
        "  Creates an array of ones of dimension shape\n",
        "\n",
        "  Arguments:\n",
        "  shape -- shape of the array you want to  create\n",
        "\n",
        "  Returns:\n",
        "  ones -- array containing only ones\n",
        "  \"\"\"\n",
        "\n",
        "  # Create \"ones\" tensor using tf.ones()\n",
        "  ones = tf.ones(shape)\n",
        "\n",
        "  # Create the session\n",
        "  with tf.Session() as sess:\n",
        "    ones = sess.run(ones)\n",
        "\n",
        "  return ones\n",
        "\n",
        "print('ones = ' + str(ones([3, 1])))"
      ],
      "execution_count": 13,
      "outputs": [
        {
          "output_type": "stream",
          "text": [
            "ones = [[1.]\n",
            " [1.]\n",
            " [1.]]\n"
          ],
          "name": "stdout"
        }
      ]
    },
    {
      "cell_type": "code",
      "metadata": {
        "id": "cnHJwcFL6TUT",
        "colab_type": "code",
        "outputId": "b967975e-c01c-47f7-891a-c2f3b71ca95e",
        "colab": {
          "base_uri": "https://localhost:8080/",
          "height": 285
        }
      },
      "source": [
        "X_train_orig, Y_train_orig, X_test_orig, Y_test_orig, classes = load_dataset()\n",
        "index = 0 \n",
        "plt.imshow(X_train_orig[index])\n",
        "print('y = ' + str(np.squeeze(Y_train_orig[:, index])))"
      ],
      "execution_count": 14,
      "outputs": [
        {
          "output_type": "stream",
          "text": [
            "y = 5\n"
          ],
          "name": "stdout"
        },
        {
          "output_type": "display_data",
          "data": {
            "image/png": "[encoded data removed]",
            "text/plain": [
              "<Figure size 432x288 with 1 Axes>"
            ]
          },
          "metadata": {
            "tags": []
          }
        }
      ]
    },
    {
      "cell_type": "code",
      "metadata": {
        "id": "S8RoIrfQ9vWB",
        "colab_type": "code",
        "outputId": "6d65ed5e-9e04-4f67-80cd-886b63bae0b1",
        "colab": {
          "base_uri": "https://localhost:8080/",
          "height": 118
        }
      },
      "source": [
        "# Flatten the training and test images\n",
        "X_train_flatten = X_train_orig.reshape(X_train_orig.shape[0], -1).T\n",
        "X_test_flatten = X_test_orig.reshape(X_test_orig.shape[0], -1).T\n",
        "# Normalize image vectors\n",
        "X_train = X_train_flatten/255\n",
        "X_test = X_test_flatten/255\n",
        "# Convert training and test labels to one hot matrices\n",
        "Y_train = convert_to_one_hot(Y_train_orig, 6)\n",
        "Y_test = convert_to_one_hot(Y_test_orig, 6)\n",
        "\n",
        "print('number of training examples = ' + str(X_train.shape[1]))\n",
        "print('number of test examples = ' + str(X_test.shape[1]))\n",
        "print('X_train shape: ' + str(X_train.shape))\n",
        "print('Y_train shape: ' + str(Y_train.shape))\n",
        "print('X_test shape: ' + str(X_test.shape))\n",
        "print('Y_test shape: ' + str(Y_test.shape))\n",
        "\n",
        "\n"
      ],
      "execution_count": 15,
      "outputs": [
        {
          "output_type": "stream",
          "text": [
            "number of training examples = 1080\n",
            "number of test examples = 120\n",
            "X_train shape: (12288, 1080)\n",
            "Y_train shape: (6, 1080)\n",
            "X_test shape: (12288, 120)\n",
            "Y_test shape: (6, 120)\n"
          ],
          "name": "stdout"
        }
      ]
    },
    {
      "cell_type": "code",
      "metadata": {
        "id": "92ecEDvN7Gcc",
        "colab_type": "code",
        "outputId": "a5bb4aa6-462e-4afd-e82f-2dab452724f2",
        "colab": {
          "base_uri": "https://localhost:8080/",
          "height": 50
        }
      },
      "source": [
        "def create_placeholder(n_x, n_y):\n",
        "  \"\"\"\n",
        "  Creates the placeholder for the tensorflow session\n",
        "\n",
        "  Arguments:\n",
        "  n_x -- scalarm size of an image vector\n",
        "  n_y -- scalar, number of classes\n",
        "\n",
        "  Returns:\n",
        "  X -- placeholder for the data input, of shape [n_x, None] and dtype 'tf.float32'\n",
        "  Y -- placeholder for the input labels, of shape [n_y, None] and dtype 'tf.float32'\n",
        "\n",
        "  Tips:\n",
        "  - You will use None because it let's us be flexible on the number of examples\n",
        "  \"\"\"\n",
        "\n",
        "  X = tf.placeholder(dtype=tf.float64, shape=[n_x, None])\n",
        "  Y = tf.placeholder(dtype=tf.float64, shape=[n_y, None])\n",
        "\n",
        "  return X, Y\n",
        "\n",
        "X, Y = create_placeholder(12288, 6)\n",
        "print('X = ' + str(X))\n",
        "print('Y = ' + str(Y))\n"
      ],
      "execution_count": 16,
      "outputs": [
        {
          "output_type": "stream",
          "text": [
            "X = Tensor(\"Placeholder:0\", shape=(12288, ?), dtype=float64)\n",
            "Y = Tensor(\"Placeholder_1:0\", shape=(6, ?), dtype=float64)\n"
          ],
          "name": "stdout"
        }
      ]
    },
    {
      "cell_type": "code",
      "metadata": {
        "id": "wYXTdR8ZBuMp",
        "colab_type": "code",
        "outputId": "2c418519-e5a2-4fb7-aa87-22601b15e1c6",
        "colab": {
          "base_uri": "https://localhost:8080/",
          "height": 218
        }
      },
      "source": [
        "def initialize_parameter():\n",
        "  \"\"\"\n",
        "  Initialize parameter to build  a neural network with tensorfow. The shapes\n",
        "            W1 : [25, 12288]\n",
        "            b1 : [25, 1]\n",
        "            W2 : [12, 25]\n",
        "            b2 : [12, 1]\n",
        "            W3 : [6, 12]\n",
        "            b3 : [6, 1]\n",
        "\n",
        "  Returns: \n",
        "  parameters -- a dictionary of tensors containing W1, b1, W2, b2, W3, b3\n",
        "  \"\"\"\n",
        "\n",
        "  tf.set_random_seed(1)\n",
        "  W1 = tf.get_variable('W1', [25, 12288], initializer=tf.contrib.layers.xavier_initializer(seed=1), dtype=tf.float64)\n",
        "  b1 = tf.get_variable('b1', [25, 1], initializer= tf.zeros_initializer(), dtype=tf.float64)\n",
        "  W2 = tf.get_variable('W2', [12, 25], initializer=tf.contrib.layers.xavier_initializer(seed=1), dtype=tf.float64)\n",
        "  b2 = tf.get_variable('b2', [12, 1], initializer=tf.zeros_initializer(), dtype=tf.float64)\n",
        "  W3 = tf.get_variable('W3', [6, 12], initializer=tf.contrib.layers.xavier_initializer(seed=1), dtype=tf.float64)\n",
        "  b3 = tf.get_variable('b3', [6, 1], initializer=tf.contrib.layers.xavier_initializer(seed=1), dtype=tf.float64)\n",
        "\n",
        "  parameters = {'W1': W1, 'b1': b1, 'W2': W2, 'W3': W3, 'b2': b2, 'b3': b3}\n",
        "  return parameters\n",
        "\n",
        "tf.reset_default_graph()\n",
        "with tf.Session() as sess:\n",
        "  parameters = initialize_parameter()\n",
        "  print('W1 = ' + str(parameters['W1']))\n",
        "  print('b1 = ' + str(parameters['b1']))\n",
        "  print('W2 = ' + str(parameters['W2']))\n",
        "  print('b2 = ' + str(parameters['b2']))"
      ],
      "execution_count": 17,
      "outputs": [
        {
          "output_type": "stream",
          "text": [
            "WARNING:tensorflow:\n",
            "The TensorFlow contrib module will not be included in TensorFlow 2.0.\n",
            "For more information, please see:\n",
            "  * https://github.com/tensorflow/community/blob/master/rfcs/20180907-contrib-sunset.md\n",
            "  * https://github.com/tensorflow/addons\n",
            "  * https://github.com/tensorflow/io (for I/O related ops)\n",
            "If you depend on functionality not listed there, please file an issue.\n",
            "\n",
            "W1 = <tf.Variable 'W1:0' shape=(25, 12288) dtype=float64_ref>\n",
            "b1 = <tf.Variable 'b1:0' shape=(25, 1) dtype=float64_ref>\n",
            "W2 = <tf.Variable 'W2:0' shape=(12, 25) dtype=float64_ref>\n",
            "b2 = <tf.Variable 'b2:0' shape=(12, 1) dtype=float64_ref>\n"
          ],
          "name": "stdout"
        }
      ]
    },
    {
      "cell_type": "code",
      "metadata": {
        "id": "dfWMi39rFEh7",
        "colab_type": "code",
        "outputId": "c1d24503-989d-4fdf-aee2-e33a13594d31",
        "colab": {
          "base_uri": "https://localhost:8080/",
          "height": 34
        }
      },
      "source": [
        "def forward_propagation(X, parameters):\n",
        "  \"\"\"\n",
        "  Implements the forward propagation for the model: LINEAR->RELU->LINEAR->RELU->LINEAR->SOFTMAX\n",
        "\n",
        "  Arguments:\n",
        "  X -- input datasets placeholder, of shape(input size, number of examples)\n",
        "  parameters \n",
        "\n",
        "  Returns:\n",
        "  Z3 -- the output of the last LINEAR unit\n",
        "  \"\"\"\n",
        "\n",
        "  # Retrieve teh parameters from the dictionary \"parameters\"\n",
        "  W1 = parameters['W1']\n",
        "  b1 = parameters['b1']\n",
        "  W2 = parameters['W2']\n",
        "  b2 = parameters['b2']\n",
        "  W3 = parameters['W3']\n",
        "  b3 = parameters['b3']\n",
        "\n",
        "  Z1 = tf.add(tf.matmul(W1, X), b1)\n",
        "  A1 = tf.nn.relu(Z1)\n",
        "  Z2 = tf.add(tf.matmul(W2, A1), b2)\n",
        "  A2 = tf.nn.relu(Z2)\n",
        "  Z3 = tf.add(tf.matmul(W3, A2), b3)\n",
        "\n",
        "  return Z3\n",
        "\n",
        "tf.reset_default_graph()\n",
        "\n",
        "with tf.Session() as sess:\n",
        "  X, Y = create_placeholder(12288, 6)\n",
        "  parameters = initialize_parameter()\n",
        "  Z3 = forward_propagation(X, parameters)\n",
        "  print('Z3 = ' + str(Z3))"
      ],
      "execution_count": 18,
      "outputs": [
        {
          "output_type": "stream",
          "text": [
            "Z3 = Tensor(\"Add_2:0\", shape=(6, ?), dtype=float64)\n"
          ],
          "name": "stdout"
        }
      ]
    },
    {
      "cell_type": "code",
      "metadata": {
        "id": "FenafJ36MKfI",
        "colab_type": "code",
        "outputId": "0526bd92-bc12-49d5-974b-75b5195a44e9",
        "colab": {
          "base_uri": "https://localhost:8080/",
          "height": 188
        }
      },
      "source": [
        "def compute_cost(Z3, Y):\n",
        "  \"\"\"\n",
        "  Compute the cost\n",
        "\n",
        "  Arguments:\n",
        "  Z3 -- output of forward propagation\n",
        "  Y -- 'true' labels vector placeholder\n",
        "\n",
        "  Returns:\n",
        "  cost - Tensor of the cost function\n",
        "  \"\"\"\n",
        "\n",
        "  # to fit the tensorflow requirement\n",
        "  logits = tf.transpose(Z3)\n",
        "  labels = tf.transpose(Y)\n",
        "\n",
        "  cost = tf.reduce_mean(tf.nn.softmax_cross_entropy_with_logits(labels=labels, logits=logits))\n",
        "\n",
        "  return cost\n",
        "\n",
        "tf.reset_default_graph()\n",
        "\n",
        "with tf.Session() as sess:\n",
        "  X, Y = create_placeholder(12288, 6)\n",
        "  parameters = initialize_parameter()\n",
        "  Z3 = forward_propagation(X, parameters)\n",
        "  cost = compute_cost(Z3, Y)\n",
        "  print('cost = ' + str(cost))\n"
      ],
      "execution_count": 19,
      "outputs": [
        {
          "output_type": "stream",
          "text": [
            "WARNING:tensorflow:From <ipython-input-19-6d92e6621f11>:17: softmax_cross_entropy_with_logits (from tensorflow.python.ops.nn_ops) is deprecated and will be removed in a future version.\n",
            "Instructions for updating:\n",
            "\n",
            "Future major versions of TensorFlow will allow gradients to flow\n",
            "into the labels input on backprop by default.\n",
            "\n",
            "See `tf.nn.softmax_cross_entropy_with_logits_v2`.\n",
            "\n",
            "cost = Tensor(\"Mean:0\", shape=(), dtype=float64)\n"
          ],
          "name": "stdout"
        }
      ]
    },
    {
      "cell_type": "code",
      "metadata": {
        "id": "ksSsP4gh5LsH",
        "colab_type": "code",
        "colab": {}
      },
      "source": [
        "def model(X_train, Y_train, X_test, Y_test, learning_rate = 0.0001, num_epochs = 1500, minibatch_size = 32, print_cost = True):\n",
        "  \"\"\"\n",
        "  Implements a three-layer tensorflow neural network: LINEAR->RELU->LINEAR->RELU->LINEAR->SOFTMAX\n",
        "  \"\"\"\n",
        "  ops.reset_default_graph()   # to be able to return the model without overwritting tf\n",
        "  tf.set_random_seed(1)\n",
        "  seed = 3\n",
        "  (n_x, m) = X_train.shape    # input size\n",
        "  n_y = Y_train.shape[0]      # output size\n",
        "  costs = []\n",
        "\n",
        "  # Create placeholder of shape (n_x, n_y)\n",
        "  X, Y = create_placeholder(n_x, n_y)\n",
        "\n",
        "  # Initialize parameters\n",
        "  parameters = initialize_parameter()\n",
        "\n",
        "  # Forward propagation\n",
        "  Z3 = forward_propagation(X_train, parameters)\n",
        "\n",
        "  # Cost function\n",
        "  cost = compute_cost(Z3, Y_train)\n",
        "\n",
        "  # Backpropagation: Define the tensorflow optimizer. Use an AdamOptimizer\n",
        "  optimizer = tf.train.AdamOptimizer(learning_rate).minimize(cost)\n",
        "\n",
        "  # Initialize all the variables\n",
        "  init = tf.global_variables_initializer()\n",
        "\n",
        "  # Start the session to compute the tensorflow graph\n",
        "  with tf.Session() as sess:\n",
        "    # Run the initialization\n",
        "    sess.run(init)\n",
        "\n",
        "    # Do the training loop\n",
        "    for epoch in range(num_epochs):\n",
        "      epoch_cost = 0\n",
        "      num_minibatches = int(m / minibatch_size)\n",
        "      seed = seed + 1\n",
        "      minibatches = random_mini_batches(X_train, Y_train, minibatch_size, seed)\n",
        "\n",
        "      for minibatch in minibatches:\n",
        "        # Select a minibatch\n",
        "        (minibatch_X, minibatch_Y) = minibatch\n",
        "        # Run the session to excute the 'optimizer' and the  'cost'\n",
        "        _, minibatch_cost = sess.run([optimizer, cost], feed_dict={X: minibatch_X, Y: minibatch_Y})\n",
        "\n",
        "        epoch_cost += minibatch_cost / num_minibatches\n",
        "      \n",
        "      if print_cost == True and epoch % 100 == 0:\n",
        "        print('Cost after epoch %i: %f' %(epoch, epoch_cost))\n",
        "      if print_cost == True and epoch % 5 == 0:\n",
        "        costs.append(epoch_cost)\n",
        "\n",
        "    # plot the cost\n",
        "    plt.plot(np.squeeze(costs))\n",
        "    plt.ylabel('cost')\n",
        "    plt.xlabel('iterations (per fives)')\n",
        "    plt.title('Learning rate =' + str(learning_rate))\n",
        "    plt.show()\n",
        "\n",
        "    # Lets save the parameters in a variable\n",
        "    parameters = sess.run(parameters)\n",
        "    print('Parameters have been trained')\n",
        "\n",
        "    # Caculate the correct predictions\n",
        "    correct_prediction = tf.equal(tf.argmax(Z3), tf.argmax(Y))\n",
        "\n",
        "    # Caculate accuracy on the test set\n",
        "    accuracy = tf.reduce_mean(tf.cast(correct_prediction, 'float'))\n",
        "\n",
        "    print('Train Accuracy: ', accuracy.eval({X: X_train, Y: Y_train}))\n",
        "    print('Test Accuracy:', accuracy.eval({X: X_test, Y: Y_test}))\n",
        "\n",
        "    return parameters\n"
      ],
      "execution_count": 0,
      "outputs": []
    },
    {
      "cell_type": "code",
      "metadata": {
        "id": "2p67VzPC9ZKt",
        "colab_type": "code",
        "outputId": "ab309573-75b5-4d53-bb73-0924e252741a",
        "colab": {
          "base_uri": "https://localhost:8080/",
          "height": 34
        }
      },
      "source": [
        "parameter = model(X_train, Y_train, X_test, Y_test)"
      ],
      "execution_count": 0,
      "outputs": [
        {
          "output_type": "stream",
          "text": [
            "Cost after epoch 0: 1.869409\n"
          ],
          "name": "stdout"
        }
      ]
    }
  ]
}