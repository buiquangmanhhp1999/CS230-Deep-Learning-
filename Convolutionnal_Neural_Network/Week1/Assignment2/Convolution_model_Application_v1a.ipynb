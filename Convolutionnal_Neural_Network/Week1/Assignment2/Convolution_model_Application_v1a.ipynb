{
  "nbformat": 4,
  "nbformat_minor": 0,
  "metadata": {
    "kernelspec": {
      "display_name": "Python 3",
      "language": "python",
      "name": "python3"
    },
    "language_info": {
      "codemirror_mode": {
        "name": "ipython",
        "version": 3
      },
      "file_extension": ".py",
      "mimetype": "text/x-python",
      "name": "python",
      "nbconvert_exporter": "python",
      "pygments_lexer": "ipython3",
      "version": "3.7.4"
    },
    "colab": {
      "name": "Convolution_model_Application_v1a.ipynb",
      "provenance": [],
      "collapsed_sections": []
    }
  },
  "cells": [
    {
      "cell_type": "code",
      "metadata": {
        "id": "Vz_Ki-MDYStt",
        "colab_type": "code",
        "colab": {}
      },
      "source": [
        "import math\n",
        "import numpy as np\n",
        "import h5py\n",
        "import matplotlib.pyplot as plt\n",
        "import scipy\n",
        "from PIL import Image\n",
        "from scipy import ndimage\n",
        "import tensorflow as tf\n",
        "from tensorflow.python.framework import ops\n",
        "from cnn_utils import *\n",
        "\n",
        "np.random.seed(1)"
      ],
      "execution_count": 0,
      "outputs": []
    },
    {
      "cell_type": "code",
      "metadata": {
        "id": "j3Vfx0syYSt8",
        "colab_type": "code",
        "colab": {}
      },
      "source": [
        "# Loading the data (signs)\n",
        "X_train_orig, Y_train_orig, X_test_orig, Y_test_orig, classes = load_dataset()"
      ],
      "execution_count": 0,
      "outputs": []
    },
    {
      "cell_type": "code",
      "metadata": {
        "id": "8t8Xq7emYSuE",
        "colab_type": "code",
        "outputId": "27896392-6722-4bc9-9362-a7846e33c4f1",
        "colab": {
          "base_uri": "https://localhost:8080/",
          "height": 386
        }
      },
      "source": [
        "# Example of a picture\n",
        "index = 6\n",
        "plt.imshow(X_train_orig[index])\n",
        "print('y = ' + str(np.squeeze(Y_train_orig[:, index])))\n",
        "\n",
        "X_train = X_train_orig/255\n",
        "X_test = X_test_orig/255\n",
        "Y_train = convert_to_one_hot(Y_train_orig, 6).T\n",
        "Y_test = convert_to_one_hot(Y_test_orig, 6).T\n",
        "print('number of training examples = ' + str(X_train.shape[0]))\n",
        "print('number of test examples = ' + str(X_test.shape[0]))\n",
        "print('X_train_shape: ' + str(X_train.shape) )\n",
        "print('Y_train shape: ' + str(Y_train.shape))\n",
        "print('X_test shape: ' + str(X_test.shape))\n",
        "print('Y_test shape: ' + str(Y_test.shape))\n",
        "conv_layers = {}"
      ],
      "execution_count": 28,
      "outputs": [
        {
          "output_type": "stream",
          "text": [
            "y = 2\n",
            "number of training examples = 1080\n",
            "number of test examples = 120\n",
            "X_train_shape: (1080, 64, 64, 3)\n",
            "Y_train shape: (1080, 6)\n",
            "X_test shape: (120, 64, 64, 3)\n",
            "Y_test shape: (120, 6)\n"
          ],
          "name": "stdout"
        },
        {
          "output_type": "display_data",
          "data": {
            "image/png": "[encoded data removed]",
            "text/plain": [
              "<Figure size 432x288 with 1 Axes>"
            ]
          },
          "metadata": {
            "tags": []
          }
        }
      ]
    },
    {
      "cell_type": "code",
      "metadata": {
        "id": "HDOKkavkYSuJ",
        "colab_type": "code",
        "colab": {}
      },
      "source": [
        "def create_placeholders(n_H0, n_W0, n_C0, n_y):\n",
        "    \"\"\"\n",
        "    creates the place holders for the tensorflow session.\n",
        "    \n",
        "    Arguments:\n",
        "    n_H0 -- scalar, height of input image\n",
        "    n_W0 -- scalar, width of an input image\n",
        "    n_C0 -- scalar, number of channels of the input\n",
        "    n_y -- scalar, number of classes\n",
        "    \n",
        "    Returns:\n",
        "    X -- placeholder for the data input, of shape [NONE, n_H0, n_W0, n_C0] and dtype 'float'\n",
        "    Y -- placeholder for the input data labels, of shape [None, n_y] and dtype float\n",
        "    \"\"\"\n",
        "    \n",
        "    X = tf.compat.v1.placeholder(shape=[None, n_H0, n_W0, n_C0], dtype=tf.float32)\n",
        "    Y = tf.compat.v1.placeholder(shape=[None, n_y], dtype=tf.float32)\n",
        "    \n",
        "    return X, Y\n"
      ],
      "execution_count": 0,
      "outputs": []
    },
    {
      "cell_type": "code",
      "metadata": {
        "id": "XrnXOWFDYSuM",
        "colab_type": "code",
        "outputId": "c10c684b-f9e7-4625-a640-9cb2b6bbdc22",
        "colab": {
          "base_uri": "https://localhost:8080/",
          "height": 50
        }
      },
      "source": [
        "X, Y = create_placeholders(64, 64, 3, 6)\n",
        "print('X = ' + str(X))\n",
        "print('Y = ' + str(Y))"
      ],
      "execution_count": 30,
      "outputs": [
        {
          "output_type": "stream",
          "text": [
            "X = Tensor(\"Placeholder_2:0\", shape=(?, 64, 64, 3), dtype=float32)\n",
            "Y = Tensor(\"Placeholder_3:0\", shape=(?, 6), dtype=float32)\n"
          ],
          "name": "stdout"
        }
      ]
    },
    {
      "cell_type": "code",
      "metadata": {
        "id": "sVlum7l7YSuW",
        "colab_type": "code",
        "colab": {}
      },
      "source": [
        "def intitialize_parameters():\n",
        "  \"\"\"\n",
        "  Intializes weight parameters to build a neural network with tensorflow. The shapes are:\n",
        "  W1  : [4, 4, 3, 8]\n",
        "  W2  : [2, 2, 8, 16]\n",
        "\n",
        "  Returns:\n",
        "  parameters -- a dictionary of tensors containing W1, W2\n",
        "  \"\"\"\n",
        "\n",
        "  tf.set_random_seed(1)\n",
        "  W1 = tf.get_variable('W1', shape=[4, 4, 3, 8], initializer=tf.contrib.layers.xavier_initializer(seed=0))\n",
        "  W2 = tf.get_variable('W2', shape=[2, 2, 8, 16], initializer=tf.contrib.layers.xavier_initializer(seed=0))\n",
        "\n",
        "  parameters = {'W1': W1, 'W2': W2}\n",
        "  return parameters"
      ],
      "execution_count": 0,
      "outputs": []
    },
    {
      "cell_type": "code",
      "metadata": {
        "id": "RAP4YkGLYSua",
        "colab_type": "code",
        "outputId": "167ec0a8-07f0-4895-a251-b788794a5978",
        "colab": {
          "base_uri": "https://localhost:8080/",
          "height": 202
        }
      },
      "source": [
        "tf.reset_default_graph()\n",
        "with tf.Session() as sess_test:\n",
        "  parameters = intitialize_parameters()\n",
        "  init = tf.global_variables_initializer()\n",
        "  sess_test.run(init)\n",
        "  print('W1[1, 1, 1] = \\n' + str(parameters['W1'].eval()[1, 1, 1]))\n",
        "  print('W1.shape: ' + str(parameters['W1'].shape))\n",
        "  print('\\n')\n",
        "  print('W2[1, 1, 1] = \\n' + str(parameters['W2'].eval()[1, 1, 1]))\n",
        "  print('W2.shape: ' + str(parameters['W2'].shape))"
      ],
      "execution_count": 32,
      "outputs": [
        {
          "output_type": "stream",
          "text": [
            "W1[1, 1, 1] = \n",
            "[ 0.00131723  0.1417614  -0.04434952  0.09197326  0.14984085 -0.03514394\n",
            " -0.06847463  0.05245192]\n",
            "W1.shape: (4, 4, 3, 8)\n",
            "\n",
            "\n",
            "W2[1, 1, 1] = \n",
            "[-0.08566415  0.17750949  0.11974221  0.16773748 -0.0830943  -0.08058\n",
            " -0.00577033 -0.14643836  0.24162132 -0.05857408 -0.19055021  0.1345228\n",
            " -0.22779644 -0.1601823  -0.16117483 -0.10286498]\n",
            "W2.shape: (2, 2, 8, 16)\n"
          ],
          "name": "stdout"
        }
      ]
    },
    {
      "cell_type": "code",
      "metadata": {
        "id": "o0PhiY_IhLBD",
        "colab_type": "code",
        "colab": {}
      },
      "source": [
        "def forward_propagation(X, parameters):\n",
        "  \"\"\"\n",
        "  Implements the forward propagation for the model:\n",
        "  CONV2D -> RELU -> MAXPOOL -> CONV2D -> RELU -> MAXPOOL -> FLATTEN -> FULLY CONNECTED\n",
        "\n",
        "  Arguments:\n",
        "  X -- input dataset placeholder, of shape (input size, number of examples)\n",
        "  parameters -- python dictionary containing your parameters 'W1', 'W2', the shapes are given i\n",
        "                initialize_parameters\n",
        "  Returns:\n",
        "  Z3 -- the output of the last LINEAR unit\n",
        "  \"\"\"\n",
        "\n",
        "  # Retrive the parameters from the dictionary 'parameters'\n",
        "  W1 = parameters['W1']\n",
        "  W2 = parameters['W2']\n",
        "\n",
        "  # CONV2D: stride of 1, padding 'SAME'\n",
        "  Z1 = tf.nn.conv2d(X, W1, strides=[1, 1, 1, 1], padding='SAME')\n",
        "  # RELU\n",
        "  A1 = tf.nn.relu(Z1)\n",
        "  # MAXPOOL: window 8x8, stride 8, padding 'SAME'\n",
        "  P1 = tf.nn.max_pool(A1, ksize=[1, 8, 8, 1], strides=[1, 8, 8, 1], padding='SAME')\n",
        "  # CONV2D: filters W2, stride 1, padding 'SAME'\n",
        "  Z2  = tf.nn.conv2d(P1, W2, strides=[1, 1, 1, 1], padding='SAME')\n",
        "  # RELU\n",
        "  A2 = tf.nn.relu(Z2)\n",
        "  # MAXPOOL: window 4x4, stride 4, padding 'SAME'\n",
        "  P2 = tf.nn.max_pool(A2, ksize=[1, 4, 4, 1], strides=[1, 4, 4, 1], padding='SAME')\n",
        "  # FLATTEN\n",
        "  F = tf.contrib.layers.flatten(P2)\n",
        "  # FULLY-CONNECTED without non-linear activation function (not call softmax)\n",
        "  # 6 neurons in output layer\n",
        "  Z3 = tf.contrib.layers.fully_connected(F, 6, activation_fn=None)\n",
        "\n",
        "  return Z3"
      ],
      "execution_count": 0,
      "outputs": []
    },
    {
      "cell_type": "code",
      "metadata": {
        "id": "fh0QdCJmtu-i",
        "colab_type": "code",
        "outputId": "3c8a998b-6471-43f6-9a3b-92477a2b9095",
        "colab": {
          "base_uri": "https://localhost:8080/",
          "height": 67
        }
      },
      "source": [
        "tf.reset_default_graph()\n",
        "\n",
        "with tf.Session() as sess:\n",
        "  np.random.seed(1)\n",
        "  X, Y = create_placeholders(64, 64, 3, 6)\n",
        "  parameters = intitialize_parameters()\n",
        "  Z3 = forward_propagation(X, parameters)\n",
        "  init = tf.global_variables_initializer()\n",
        "  sess.run(init)\n",
        "  a = sess.run(Z3, {X: np.random.randn(2, 64, 64, 3), Y: np.random.randn(2, 6)})\n",
        "  print('Z3 = \\n', str(a))"
      ],
      "execution_count": 34,
      "outputs": [
        {
          "output_type": "stream",
          "text": [
            "Z3 = \n",
            " [[ 1.4416984  -0.24909686  5.4504986  -0.26189622 -0.20669895  1.3654672 ]\n",
            " [ 1.4070847  -0.02573191  5.08928    -0.486699   -0.40940708  1.2624857 ]]\n"
          ],
          "name": "stdout"
        }
      ]
    },
    {
      "cell_type": "code",
      "metadata": {
        "id": "r-odHBzwdXAA",
        "colab_type": "code",
        "colab": {
          "base_uri": "https://localhost:8080/",
          "height": 34
        },
        "outputId": "bc8c1b1e-17bc-4e4c-cf51-8b92fdb0fa76"
      },
      "source": [
        "def compute_cost(Z3, Y):\n",
        "  \"\"\"\n",
        "  Compute the cost\n",
        "\n",
        "  Arguments:\n",
        "  Z3 -- output of forward propagation (output of the last LINEAR unit), of shape (number of examples, 6)\n",
        "  Y -- 'true' labels vector placeholder, same shape as Z3\n",
        "\n",
        "  Returns:\n",
        "  cost - Tensor of the cost function\n",
        "  \"\"\"\n",
        "\n",
        "  cost = tf.reduce_mean(tf.nn.softmax_cross_entropy_with_logits(logits=Z3, labels=Y))\n",
        "  return cost\n",
        "\n",
        "\n",
        "tf.reset_default_graph()\n",
        "\n",
        "with tf.Session() as sess:\n",
        "  np.random.seed(1)\n",
        "  X, Y = create_placeholders(64, 64, 3, 6)\n",
        "  parameters = intitialize_parameters()\n",
        "  Z3 = forward_propagation(X, parameters)\n",
        "  cost = compute_cost(Z3, Y)\n",
        "  init = tf.global_variables_initializer()\n",
        "  sess.run(init)\n",
        "  a =sess.run(cost, {X: np.random.randn(4, 64, 64, 3), Y: np.random.randn(4, 6)})\n",
        "  print('cost = ' + str(a))"
      ],
      "execution_count": 35,
      "outputs": [
        {
          "output_type": "stream",
          "text": [
            "cost = 4.6648703\n"
          ],
          "name": "stdout"
        }
      ]
    },
    {
      "cell_type": "code",
      "metadata": {
        "id": "TWzat-TJ1u9c",
        "colab_type": "code",
        "colab": {}
      },
      "source": [
        "def model(X_train, Y_train, X_test, Y_test, learning_rate = 0.009, num_epochs = 100, minibatch_size = 64, print_cost = True):\n",
        "  \"\"\"\n",
        "  Implements a three-layer Convnet in Tensorflow:\n",
        "  CONV2D -> RELU -> MAXPOOL -> CONV2D -> RELU -> MAXPOOL -> FALTTEN -> FULLyCONNECTED\n",
        "\n",
        "  Arguments:\n",
        "  X_train -- training set, of shape (None, 64, 64, 3)\n",
        "  Y_train -- test set, of shape (None, n_y = 6)\n",
        "  X_test -- training set, of shape (None, 64, 64, 3)\n",
        "  Y_test -- test set, of shape (None, n_y = 6)\n",
        "  learning_rate -- learning rate of the optimization\n",
        "  num_epochs -- number of epochs of the optimization loop\n",
        "  minibatch_size -- size of a minibatch\n",
        "  print_cost -- True to print the cost every 100 epochs\n",
        "\n",
        "  Returns:\n",
        "  train_accuracy -- real number, accuracy on the train set (X_train)\n",
        "  test_accuracy -- real number, testing accuracy on the test set (X_test)\n",
        "  parameters -- parameters learnt by the model. They can be used to predict\n",
        "  \"\"\"\n",
        "  ops.reset_default_graph()         # to be able to rerun the model\n",
        "  tf.set_random_seed(1)             # to keep results consistent\n",
        "  seed = 3                          # to keep results consistent\n",
        "  (m, n_H0, n_W0, n_C0) = X_train.shape\n",
        "  n_y = Y_train.shape[1]\n",
        "  costs = []                        # to keep track of the cost\n",
        "\n",
        "  # create placeholder of the correct shape\n",
        "  X, Y = create_placeholders(n_H0, n_W0, n_C0, n_y)\n",
        "\n",
        "  # initialize parameters\n",
        "  parameters = intitialize_parameters()\n",
        "\n",
        "  # Forward propagation: Build ht e forward propagation in the tensorflow graph\n",
        "  Z3 = forward_propagation(X, parameters)\n",
        "\n",
        "  # Cost function: Add cost function to tensorflow graph\n",
        "  cost = compute_cost(Z3, Y)\n",
        "\n",
        "  # Backpropagation: Define the tensorflow optimizer. Use an AdamOptimizer\n",
        "  optimizer = tf.train.AdamOptimizer(learning_rate=learning_rate).minimize(cost)\n",
        "\n",
        "  # Initialize all the variables globally\n",
        "  init = tf.global_variables_initializer()\n",
        "\n",
        "  # Start the session to compute the tensorflow graph\n",
        "  with tf.Session() as sess:\n",
        "    # Run the initialization\n",
        "    sess.run(init)\n",
        "\n",
        "    # Do the training loop \n",
        "    for epoch in range(num_epochs):\n",
        "      minibatch_cost = 0\n",
        "      num_minibatches = int(m / minibatch_size) # number of minibatches\n",
        "      seed = seed + 1\n",
        "      minibatches = random_mini_batches(X_train, Y_train, minibatch_size, seed)\n",
        "\n",
        "      for minibatch in minibatches:\n",
        "        # Select a minibatch\n",
        "        (minibatch_X, minibatch_Y) = minibatch\n",
        "        _, temp_cost = sess.run([optimizer, cost], {X: minibatch_X, Y: minibatch_Y})\n",
        "        minibatch_cost += temp_cost / num_minibatches\n",
        "\n",
        "      # Print the cost every epoch\n",
        "      if print_cost == True and epoch % 5 == 0:\n",
        "        print('Cost after epoch %i: %f' %(epoch, minibatch_cost))\n",
        "\n",
        "      if print_cost == True and epoch % 1 == 0:\n",
        "        costs.append(minibatch_cost)\n",
        "\n",
        "  plt.plot(np.squeeze(costs))\n",
        "  plt.ylabel('cost')\n",
        "  plt.xlabel('iterations (per tens)')\n",
        "  plt.title(\"Learning rate =\" + str(learning_rate))\n",
        "  plt.show()\n",
        "\n",
        "  # Calculate the correct predictions\n",
        "  predict_op = tf.argmax(Z3, 1)\n",
        "  correct_prediction = tf.equal(predict_op, tf.argmax(Y, 1))\n",
        "        \n",
        "  # Calculate accuracy on the test set\n",
        "  accuracy = tf.reduce_mean(tf.cast(correct_prediction, \"float\"))\n",
        "  print(accuracy)\n",
        "  train_accuracy = accuracy.eval({X: X_train, Y: Y_train})\n",
        "  test_accuracy = accuracy.eval({X: X_test, Y: Y_test})\n",
        "  print(\"Train Accuracy:\", train_accuracy)\n",
        "  print(\"Test Accuracy:\", test_accuracy)\n",
        "                \n",
        "  return train_accuracy, test_accuracy, parameters"
      ],
      "execution_count": 0,
      "outputs": []
    },
    {
      "cell_type": "code",
      "metadata": {
        "id": "7T4vM17A9krO",
        "colab_type": "code",
        "colab": {
          "base_uri": "https://localhost:8080/",
          "height": 67
        },
        "outputId": "6cec6318-fa3a-4bb2-fd08-248d24b726aa"
      },
      "source": [
        "_, _, parameters = model(X_train, Y_train, X_test, Y_test)"
      ],
      "execution_count": 0,
      "outputs": [
        {
          "output_type": "stream",
          "text": [
            "Cost after epoch 0: 1.921332\n",
            "Cost after epoch 5: 1.904156\n",
            "Cost after epoch 10: 1.904309\n"
          ],
          "name": "stdout"
        }
      ]
    }
  ]
}